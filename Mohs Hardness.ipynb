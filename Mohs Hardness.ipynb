{
 "cells": [
  {
   "cell_type": "code",
   "execution_count": 72,
   "id": "22546519",
   "metadata": {},
   "outputs": [],
   "source": [
    "import pandas as pd\n",
    "import numpy as np"
   ]
  },
  {
   "cell_type": "code",
   "execution_count": 73,
   "id": "965fb81a",
   "metadata": {},
   "outputs": [
    {
     "data": {
      "text/html": [
       "<div>\n",
       "<style scoped>\n",
       "    .dataframe tbody tr th:only-of-type {\n",
       "        vertical-align: middle;\n",
       "    }\n",
       "\n",
       "    .dataframe tbody tr th {\n",
       "        vertical-align: top;\n",
       "    }\n",
       "\n",
       "    .dataframe thead th {\n",
       "        text-align: right;\n",
       "    }\n",
       "</style>\n",
       "<table border=\"1\" class=\"dataframe\">\n",
       "  <thead>\n",
       "    <tr style=\"text-align: right;\">\n",
       "      <th></th>\n",
       "      <th>id</th>\n",
       "      <th>allelectrons_Total</th>\n",
       "      <th>density_Total</th>\n",
       "      <th>allelectrons_Average</th>\n",
       "      <th>val_e_Average</th>\n",
       "      <th>atomicweight_Average</th>\n",
       "      <th>ionenergy_Average</th>\n",
       "      <th>el_neg_chi_Average</th>\n",
       "      <th>R_vdw_element_Average</th>\n",
       "      <th>R_cov_element_Average</th>\n",
       "      <th>zaratio_Average</th>\n",
       "      <th>density_Average</th>\n",
       "      <th>Hardness</th>\n",
       "    </tr>\n",
       "  </thead>\n",
       "  <tbody>\n",
       "    <tr>\n",
       "      <th>0</th>\n",
       "      <td>0</td>\n",
       "      <td>100.0</td>\n",
       "      <td>0.841611</td>\n",
       "      <td>10.0</td>\n",
       "      <td>4.8</td>\n",
       "      <td>20.612526</td>\n",
       "      <td>11.08810</td>\n",
       "      <td>2.766</td>\n",
       "      <td>1.732</td>\n",
       "      <td>0.860</td>\n",
       "      <td>0.496070</td>\n",
       "      <td>0.91457</td>\n",
       "      <td>6.0</td>\n",
       "    </tr>\n",
       "    <tr>\n",
       "      <th>1</th>\n",
       "      <td>1</td>\n",
       "      <td>100.0</td>\n",
       "      <td>7.558488</td>\n",
       "      <td>10.0</td>\n",
       "      <td>4.8</td>\n",
       "      <td>20.298893</td>\n",
       "      <td>12.04083</td>\n",
       "      <td>2.755</td>\n",
       "      <td>1.631</td>\n",
       "      <td>0.910</td>\n",
       "      <td>0.492719</td>\n",
       "      <td>0.71760</td>\n",
       "      <td>6.5</td>\n",
       "    </tr>\n",
       "    <tr>\n",
       "      <th>2</th>\n",
       "      <td>2</td>\n",
       "      <td>76.0</td>\n",
       "      <td>8.885992</td>\n",
       "      <td>15.6</td>\n",
       "      <td>5.6</td>\n",
       "      <td>33.739258</td>\n",
       "      <td>12.08630</td>\n",
       "      <td>2.828</td>\n",
       "      <td>1.788</td>\n",
       "      <td>0.864</td>\n",
       "      <td>0.481478</td>\n",
       "      <td>1.50633</td>\n",
       "      <td>2.5</td>\n",
       "    </tr>\n",
       "    <tr>\n",
       "      <th>3</th>\n",
       "      <td>3</td>\n",
       "      <td>100.0</td>\n",
       "      <td>8.795296</td>\n",
       "      <td>10.0</td>\n",
       "      <td>4.8</td>\n",
       "      <td>20.213349</td>\n",
       "      <td>10.94850</td>\n",
       "      <td>2.648</td>\n",
       "      <td>1.626</td>\n",
       "      <td>0.936</td>\n",
       "      <td>0.489272</td>\n",
       "      <td>0.78937</td>\n",
       "      <td>6.0</td>\n",
       "    </tr>\n",
       "    <tr>\n",
       "      <th>4</th>\n",
       "      <td>4</td>\n",
       "      <td>116.0</td>\n",
       "      <td>9.577996</td>\n",
       "      <td>11.6</td>\n",
       "      <td>4.8</td>\n",
       "      <td>24.988133</td>\n",
       "      <td>11.82448</td>\n",
       "      <td>2.766</td>\n",
       "      <td>1.682</td>\n",
       "      <td>0.896</td>\n",
       "      <td>0.492736</td>\n",
       "      <td>1.86481</td>\n",
       "      <td>6.0</td>\n",
       "    </tr>\n",
       "  </tbody>\n",
       "</table>\n",
       "</div>"
      ],
      "text/plain": [
       "   id  allelectrons_Total  density_Total  allelectrons_Average  val_e_Average  \\\n",
       "0   0               100.0       0.841611                  10.0            4.8   \n",
       "1   1               100.0       7.558488                  10.0            4.8   \n",
       "2   2                76.0       8.885992                  15.6            5.6   \n",
       "3   3               100.0       8.795296                  10.0            4.8   \n",
       "4   4               116.0       9.577996                  11.6            4.8   \n",
       "\n",
       "   atomicweight_Average  ionenergy_Average  el_neg_chi_Average  \\\n",
       "0             20.612526           11.08810               2.766   \n",
       "1             20.298893           12.04083               2.755   \n",
       "2             33.739258           12.08630               2.828   \n",
       "3             20.213349           10.94850               2.648   \n",
       "4             24.988133           11.82448               2.766   \n",
       "\n",
       "   R_vdw_element_Average  R_cov_element_Average  zaratio_Average  \\\n",
       "0                  1.732                  0.860         0.496070   \n",
       "1                  1.631                  0.910         0.492719   \n",
       "2                  1.788                  0.864         0.481478   \n",
       "3                  1.626                  0.936         0.489272   \n",
       "4                  1.682                  0.896         0.492736   \n",
       "\n",
       "   density_Average  Hardness  \n",
       "0          0.91457       6.0  \n",
       "1          0.71760       6.5  \n",
       "2          1.50633       2.5  \n",
       "3          0.78937       6.0  \n",
       "4          1.86481       6.0  "
      ]
     },
     "execution_count": 73,
     "metadata": {},
     "output_type": "execute_result"
    }
   ],
   "source": [
    "train_df = pd.read_csv('train.csv')\n",
    "train_df.head()"
   ]
  },
  {
   "cell_type": "code",
   "execution_count": 74,
   "id": "662ac385",
   "metadata": {},
   "outputs": [],
   "source": [
    "sub_df = pd.read_csv('sample_submission.csv')"
   ]
  },
  {
   "cell_type": "code",
   "execution_count": 75,
   "id": "9e807fae",
   "metadata": {},
   "outputs": [
    {
     "data": {
      "text/plain": [
       "(10407, 13)"
      ]
     },
     "execution_count": 75,
     "metadata": {},
     "output_type": "execute_result"
    }
   ],
   "source": [
    "train_df.shape"
   ]
  },
  {
   "cell_type": "code",
   "execution_count": 76,
   "id": "2221738c",
   "metadata": {},
   "outputs": [],
   "source": [
    "test_df = pd.read_csv('test.csv')\n",
    "test_df.head()\n",
    "submission_id = test_df.id"
   ]
  },
  {
   "cell_type": "code",
   "execution_count": 77,
   "id": "f1938602",
   "metadata": {},
   "outputs": [],
   "source": [
    "train_df = train_df.drop(['id'], axis = True)\n",
    "test_df = test_df.drop(['id'], axis=True)"
   ]
  },
  {
   "cell_type": "code",
   "execution_count": 78,
   "id": "6195d62a",
   "metadata": {},
   "outputs": [],
   "source": [
    "import matplotlib.pyplot as plt\n",
    "import tensorflow as tf\n",
    "from tensorflow.keras import Sequential\n",
    "from tensorflow.keras.optimizers import Adam\n",
    "from sklearn.preprocessing import StandardScaler\n",
    "from tensorflow.keras.layers import Dense, Dropout\n",
    "from sklearn.model_selection import train_test_split\n",
    "from tensorflow.keras.losses import MeanSquaredLogarithmicError\n",
    "from tensorflow.keras.losses import MeanSquaredError, BinaryCrossentropy, MeanAbsoluteError"
   ]
  },
  {
   "cell_type": "code",
   "execution_count": 79,
   "id": "21955a7e",
   "metadata": {},
   "outputs": [],
   "source": [
    "X = train_df.drop(['Hardness'], axis=True)\n",
    "y = train_df['Hardness']\n",
    "\n",
    "X_train, X_test, y_train, y_test = train_test_split(X,y, test_size=0.2, random_state=42)"
   ]
  },
  {
   "cell_type": "code",
   "execution_count": 80,
   "id": "f767c0c2",
   "metadata": {},
   "outputs": [],
   "source": [
    "def scale_dataset(X_train, X_test):\n",
    "    standard_scaler = StandardScaler()\n",
    "    x_train_scaled = pd.DataFrame(\n",
    "    standard_scaler.fit_transform(X_train),\n",
    "    columns=X_train.columns\n",
    "    )\n",
    "    x_test_scaled = pd.DataFrame(\n",
    "    standard_scaler.transform(X_test),\n",
    "    columns=X_test.columns\n",
    "    )\n",
    "    return x_train_scaled, x_test_scaled\n",
    "\n",
    "x_train_scaled, x_test_scaled = scale_dataset(X_train, X_test)"
   ]
  },
  {
   "cell_type": "code",
   "execution_count": 81,
   "id": "9ab04a96",
   "metadata": {},
   "outputs": [],
   "source": [
    "hidden_unit1 = 128\n",
    "hidden_unit2 = 512\n",
    "hidden_unit3 = 512\n",
    "hidden_unit4 = 256\n",
    "learning_rate = 0.01\n",
    "\n",
    "def build_model_using_sequential():\n",
    "    model = Sequential([\n",
    "        Dense(hidden_unit1, kernel_initializer='normal', activation='relu'),\n",
    "        Dropout(0.2),\n",
    "        Dense(hidden_unit2, kernel_initializer='normal', activation='relu'),\n",
    "        Dropout(0.2),\n",
    "        Dense(hidden_unit3, kernel_initializer='normal', activation='relu'),\n",
    "        Dropout(0.2),\n",
    "        Dense(hidden_unit4, kernel_initializer='normal', activation='relu'),\n",
    "        Dropout(0.2),\n",
    "        Dense(1, kernel_initializer='normal')\n",
    "    ])\n",
    "    return model\n",
    "\n",
    "model = build_model_using_sequential()"
   ]
  },
  {
   "cell_type": "code",
   "execution_count": 82,
   "id": "bcf60121",
   "metadata": {},
   "outputs": [
    {
     "name": "stdout",
     "output_type": "stream",
     "text": [
      "Epoch 1/50\n",
      "105/105 [==============================] - 1s 7ms/step - loss: 1.4500 - mean_absolute_error: 1.4488 - val_loss: 1.5025 - val_mean_absolute_error: 1.5979\n",
      "Epoch 2/50\n",
      "105/105 [==============================] - 1s 6ms/step - loss: 1.1725 - mean_absolute_error: 1.1698 - val_loss: 1.0385 - val_mean_absolute_error: 1.1218\n",
      "Epoch 3/50\n",
      "105/105 [==============================] - 1s 6ms/step - loss: 1.1467 - mean_absolute_error: 1.1488 - val_loss: 0.9933 - val_mean_absolute_error: 1.0711\n",
      "Epoch 4/50\n",
      "105/105 [==============================] - 1s 6ms/step - loss: 1.1603 - mean_absolute_error: 1.1599 - val_loss: 1.0443 - val_mean_absolute_error: 1.1289\n",
      "Epoch 5/50\n",
      "105/105 [==============================] - 1s 6ms/step - loss: 1.0947 - mean_absolute_error: 1.0925 - val_loss: 1.1675 - val_mean_absolute_error: 1.2174\n",
      "Epoch 6/50\n",
      "105/105 [==============================] - 1s 6ms/step - loss: 1.0995 - mean_absolute_error: 1.1003 - val_loss: 1.1012 - val_mean_absolute_error: 1.1571\n",
      "Epoch 7/50\n",
      "105/105 [==============================] - 1s 8ms/step - loss: 1.0827 - mean_absolute_error: 1.0890 - val_loss: 1.0316 - val_mean_absolute_error: 1.1008\n",
      "Epoch 8/50\n",
      "105/105 [==============================] - 1s 7ms/step - loss: 1.0788 - mean_absolute_error: 1.0747 - val_loss: 0.9807 - val_mean_absolute_error: 1.0628\n",
      "Epoch 9/50\n",
      "105/105 [==============================] - 1s 6ms/step - loss: 1.0672 - mean_absolute_error: 1.0626 - val_loss: 1.1102 - val_mean_absolute_error: 1.2055\n",
      "Epoch 10/50\n",
      "105/105 [==============================] - 1s 6ms/step - loss: 1.0681 - mean_absolute_error: 1.0760 - val_loss: 1.0015 - val_mean_absolute_error: 1.0770\n",
      "Epoch 11/50\n",
      "105/105 [==============================] - 1s 6ms/step - loss: 1.0594 - mean_absolute_error: 1.0700 - val_loss: 1.0055 - val_mean_absolute_error: 1.0817\n",
      "Epoch 12/50\n",
      "105/105 [==============================] - 1s 6ms/step - loss: 1.0418 - mean_absolute_error: 1.0394 - val_loss: 1.0129 - val_mean_absolute_error: 1.0994\n",
      "Epoch 13/50\n",
      "105/105 [==============================] - 1s 7ms/step - loss: 1.0335 - mean_absolute_error: 1.0383 - val_loss: 1.0245 - val_mean_absolute_error: 1.1086\n",
      "Epoch 14/50\n",
      "105/105 [==============================] - 1s 6ms/step - loss: 1.0374 - mean_absolute_error: 1.0412 - val_loss: 1.0437 - val_mean_absolute_error: 1.1413\n",
      "Epoch 15/50\n",
      "105/105 [==============================] - 1s 6ms/step - loss: 1.0425 - mean_absolute_error: 1.0479 - val_loss: 0.9937 - val_mean_absolute_error: 1.0782\n",
      "Epoch 16/50\n",
      "105/105 [==============================] - 1s 6ms/step - loss: 1.0309 - mean_absolute_error: 1.0366 - val_loss: 0.9887 - val_mean_absolute_error: 1.0762\n",
      "Epoch 17/50\n",
      "105/105 [==============================] - 1s 6ms/step - loss: 1.0202 - mean_absolute_error: 1.0276 - val_loss: 0.9859 - val_mean_absolute_error: 1.0656\n",
      "Epoch 18/50\n",
      "105/105 [==============================] - 1s 6ms/step - loss: 1.0216 - mean_absolute_error: 1.0205 - val_loss: 0.9611 - val_mean_absolute_error: 1.0496\n",
      "Epoch 19/50\n",
      "105/105 [==============================] - 1s 6ms/step - loss: 1.0252 - mean_absolute_error: 1.0237 - val_loss: 1.0137 - val_mean_absolute_error: 1.0907\n",
      "Epoch 20/50\n",
      "105/105 [==============================] - 1s 7ms/step - loss: 1.0169 - mean_absolute_error: 1.0214 - val_loss: 0.9802 - val_mean_absolute_error: 1.0689\n",
      "Epoch 21/50\n",
      "105/105 [==============================] - 1s 7ms/step - loss: 1.0190 - mean_absolute_error: 1.0180 - val_loss: 1.0339 - val_mean_absolute_error: 1.1016\n",
      "Epoch 22/50\n",
      "105/105 [==============================] - 1s 6ms/step - loss: 1.0269 - mean_absolute_error: 1.0345 - val_loss: 0.9837 - val_mean_absolute_error: 1.0720\n",
      "Epoch 23/50\n",
      "105/105 [==============================] - 1s 6ms/step - loss: 1.0186 - mean_absolute_error: 1.0233 - val_loss: 1.0029 - val_mean_absolute_error: 1.0849\n",
      "Epoch 24/50\n",
      "105/105 [==============================] - 1s 7ms/step - loss: 1.0267 - mean_absolute_error: 1.0273 - val_loss: 1.0342 - val_mean_absolute_error: 1.1056\n",
      "Epoch 25/50\n",
      "105/105 [==============================] - 1s 7ms/step - loss: 1.0215 - mean_absolute_error: 1.0316 - val_loss: 1.0258 - val_mean_absolute_error: 1.1075\n",
      "Epoch 26/50\n",
      "105/105 [==============================] - 1s 7ms/step - loss: 1.0118 - mean_absolute_error: 1.0114 - val_loss: 0.9884 - val_mean_absolute_error: 1.0808\n",
      "Epoch 27/50\n",
      "105/105 [==============================] - 1s 6ms/step - loss: 1.0133 - mean_absolute_error: 1.0170 - val_loss: 0.9727 - val_mean_absolute_error: 1.0581\n",
      "Epoch 28/50\n",
      "105/105 [==============================] - 1s 6ms/step - loss: 1.0146 - mean_absolute_error: 1.0165 - val_loss: 0.9941 - val_mean_absolute_error: 1.0842\n",
      "Epoch 29/50\n",
      "105/105 [==============================] - 1s 7ms/step - loss: 1.0162 - mean_absolute_error: 1.0155 - val_loss: 1.0833 - val_mean_absolute_error: 1.1779\n",
      "Epoch 30/50\n",
      "105/105 [==============================] - 1s 7ms/step - loss: 1.0206 - mean_absolute_error: 1.0244 - val_loss: 1.0144 - val_mean_absolute_error: 1.0943\n",
      "Epoch 31/50\n",
      "105/105 [==============================] - 1s 9ms/step - loss: 1.0473 - mean_absolute_error: 1.0438 - val_loss: 1.0038 - val_mean_absolute_error: 1.0917\n",
      "Epoch 32/50\n",
      "105/105 [==============================] - 1s 8ms/step - loss: 1.0324 - mean_absolute_error: 1.0300 - val_loss: 0.9866 - val_mean_absolute_error: 1.0701\n",
      "Epoch 33/50\n",
      "105/105 [==============================] - 1s 10ms/step - loss: 1.0030 - mean_absolute_error: 1.0039 - val_loss: 1.0503 - val_mean_absolute_error: 1.1435\n",
      "Epoch 34/50\n",
      "105/105 [==============================] - 1s 9ms/step - loss: 1.0336 - mean_absolute_error: 1.0310 - val_loss: 1.0055 - val_mean_absolute_error: 1.0848\n",
      "Epoch 35/50\n",
      "105/105 [==============================] - 1s 11ms/step - loss: 1.0320 - mean_absolute_error: 1.0352 - val_loss: 1.0515 - val_mean_absolute_error: 1.1377\n",
      "Epoch 36/50\n",
      "105/105 [==============================] - 1s 9ms/step - loss: 1.0299 - mean_absolute_error: 1.0330 - val_loss: 0.9979 - val_mean_absolute_error: 1.0824\n",
      "Epoch 37/50\n",
      "105/105 [==============================] - 1s 8ms/step - loss: 1.0116 - mean_absolute_error: 1.0083 - val_loss: 0.9973 - val_mean_absolute_error: 1.0833\n",
      "Epoch 38/50\n",
      "105/105 [==============================] - 1s 8ms/step - loss: 1.0381 - mean_absolute_error: 1.0438 - val_loss: 1.0656 - val_mean_absolute_error: 1.1351\n",
      "Epoch 39/50\n",
      "105/105 [==============================] - 1s 8ms/step - loss: 1.0430 - mean_absolute_error: 1.0425 - val_loss: 1.0140 - val_mean_absolute_error: 1.1009\n",
      "Epoch 40/50\n",
      "105/105 [==============================] - 1s 8ms/step - loss: 1.0323 - mean_absolute_error: 1.0322 - val_loss: 1.0050 - val_mean_absolute_error: 1.0861\n",
      "Epoch 41/50\n",
      "105/105 [==============================] - 1s 8ms/step - loss: 1.0318 - mean_absolute_error: 1.0245 - val_loss: 1.0312 - val_mean_absolute_error: 1.1215\n",
      "Epoch 42/50\n",
      "105/105 [==============================] - 1s 7ms/step - loss: 1.0277 - mean_absolute_error: 1.0434 - val_loss: 1.0051 - val_mean_absolute_error: 1.0855\n",
      "Epoch 43/50\n",
      "105/105 [==============================] - 1s 7ms/step - loss: 1.0246 - mean_absolute_error: 1.0342 - val_loss: 1.0115 - val_mean_absolute_error: 1.0923\n",
      "Epoch 44/50\n",
      "105/105 [==============================] - 1s 6ms/step - loss: 1.0277 - mean_absolute_error: 1.0309 - val_loss: 1.0031 - val_mean_absolute_error: 1.0806\n",
      "Epoch 45/50\n",
      "105/105 [==============================] - 1s 6ms/step - loss: 1.0107 - mean_absolute_error: 1.0042 - val_loss: 1.0148 - val_mean_absolute_error: 1.0455\n",
      "Epoch 46/50\n",
      "105/105 [==============================] - 1s 6ms/step - loss: 1.0357 - mean_absolute_error: 1.0385 - val_loss: 1.0325 - val_mean_absolute_error: 1.1121\n",
      "Epoch 47/50\n",
      "105/105 [==============================] - 1s 6ms/step - loss: 1.0270 - mean_absolute_error: 1.0247 - val_loss: 1.0226 - val_mean_absolute_error: 1.1071\n",
      "Epoch 48/50\n",
      "105/105 [==============================] - 1s 6ms/step - loss: 1.0355 - mean_absolute_error: 1.0349 - val_loss: 1.0290 - val_mean_absolute_error: 1.1163\n",
      "Epoch 49/50\n",
      "105/105 [==============================] - 1s 6ms/step - loss: 1.0454 - mean_absolute_error: 1.0421 - val_loss: 1.0368 - val_mean_absolute_error: 1.1289\n",
      "Epoch 50/50\n",
      "105/105 [==============================] - 1s 6ms/step - loss: 1.0590 - mean_absolute_error: 1.0579 - val_loss: 1.0442 - val_mean_absolute_error: 1.1246\n"
     ]
    }
   ],
   "source": [
    "mse = MeanAbsoluteError()\n",
    "model.compile(loss=MeanAbsoluteError(),optimizer=Adam(learning_rate=learning_rate), metrics=[mse])\n",
    "history = model.fit(\n",
    "    x_train_scaled.values,\n",
    "    y_train.values,\n",
    "    epochs=50,\n",
    "    batch_size=64,\n",
    "    validation_split=0.2\n",
    ")"
   ]
  },
  {
   "cell_type": "code",
   "execution_count": 83,
   "id": "4208075a",
   "metadata": {},
   "outputs": [],
   "source": [
    "def dataset_scaled(test_df):\n",
    "    standard_scaler = StandardScaler()\n",
    "    x_pred_scaled = pd.DataFrame(\n",
    "    standard_scaler.fit_transform(test_df),\n",
    "    columns=test_df.columns\n",
    "    )\n",
    "    \n",
    "    return x_pred_scaled"
   ]
  },
  {
   "cell_type": "code",
   "execution_count": 84,
   "id": "36c7553d",
   "metadata": {},
   "outputs": [],
   "source": [
    "x_scales = dataset_scaled(test_df)"
   ]
  },
  {
   "cell_type": "code",
   "execution_count": 85,
   "id": "cc6baf86",
   "metadata": {},
   "outputs": [
    {
     "name": "stdout",
     "output_type": "stream",
     "text": [
      "217/217 [==============================] - 0s 2ms/step\n"
     ]
    }
   ],
   "source": [
    "y_pred = model.predict(x_scales)"
   ]
  },
  {
   "cell_type": "code",
   "execution_count": null,
   "id": "075ac3ab",
   "metadata": {},
   "outputs": [],
   "source": []
  },
  {
   "cell_type": "code",
   "execution_count": 86,
   "id": "f2e0d350",
   "metadata": {},
   "outputs": [
    {
     "data": {
      "text/plain": [
       "array([[2.933456 ],\n",
       "       [2.933456 ],\n",
       "       [5.7486625],\n",
       "       ...,\n",
       "       [5.7486625],\n",
       "       [2.933456 ],\n",
       "       [2.933456 ]], dtype=float32)"
      ]
     },
     "execution_count": 86,
     "metadata": {},
     "output_type": "execute_result"
    }
   ],
   "source": [
    "y_pred"
   ]
  },
  {
   "cell_type": "code",
   "execution_count": 88,
   "id": "da81c686",
   "metadata": {},
   "outputs": [],
   "source": [
    "sub_df['Hardness'] = y_pred"
   ]
  },
  {
   "cell_type": "code",
   "execution_count": null,
   "id": "a2895186",
   "metadata": {},
   "outputs": [],
   "source": []
  },
  {
   "cell_type": "code",
   "execution_count": null,
   "id": "382e20d9",
   "metadata": {},
   "outputs": [],
   "source": []
  },
  {
   "cell_type": "code",
   "execution_count": 89,
   "id": "131381b9",
   "metadata": {},
   "outputs": [],
   "source": [
    "sub_df.to_csv('submission.csv', index=False)"
   ]
  },
  {
   "cell_type": "code",
   "execution_count": 90,
   "id": "e4facdde",
   "metadata": {},
   "outputs": [],
   "source": [
    "df = pd.read_csv('submission.csv')"
   ]
  },
  {
   "cell_type": "code",
   "execution_count": 91,
   "id": "8a238d91",
   "metadata": {},
   "outputs": [
    {
     "data": {
      "text/plain": [
       "(6939, 2)"
      ]
     },
     "execution_count": 91,
     "metadata": {},
     "output_type": "execute_result"
    }
   ],
   "source": [
    "df.shape"
   ]
  },
  {
   "cell_type": "code",
   "execution_count": 93,
   "id": "10645589",
   "metadata": {},
   "outputs": [
    {
     "data": {
      "text/plain": [
       "dtype('float64')"
      ]
     },
     "execution_count": 93,
     "metadata": {},
     "output_type": "execute_result"
    }
   ],
   "source": [
    "df['Hardness'].dtype"
   ]
  },
  {
   "cell_type": "code",
   "execution_count": null,
   "id": "8c4213bd",
   "metadata": {},
   "outputs": [],
   "source": []
  }
 ],
 "metadata": {
  "kernelspec": {
   "display_name": "Python 3 (ipykernel)",
   "language": "python",
   "name": "python3"
  },
  "language_info": {
   "codemirror_mode": {
    "name": "ipython",
    "version": 3
   },
   "file_extension": ".py",
   "mimetype": "text/x-python",
   "name": "python",
   "nbconvert_exporter": "python",
   "pygments_lexer": "ipython3",
   "version": "3.9.12"
  }
 },
 "nbformat": 4,
 "nbformat_minor": 5
}
